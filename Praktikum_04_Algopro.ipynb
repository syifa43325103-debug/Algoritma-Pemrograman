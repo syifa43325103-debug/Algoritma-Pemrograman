{
  "cells": [
    {
      "cell_type": "markdown",
      "metadata": {
        "id": "view-in-github",
        "colab_type": "text"
      },
      "source": [
        "<a href=\"https://colab.research.google.com/github/syifa43325103-debug/Algoritma-Pemrograman/blob/main/Praktikum_04_Algopro.ipynb\" target=\"_parent\"><img src=\"https://colab.research.google.com/assets/colab-badge.svg\" alt=\"Open In Colab\"/></a>"
      ]
    },
    {
      "cell_type": "markdown",
      "metadata": {
        "id": "PhWSXf9MkyfU"
      },
      "source": [
        "Praktikum 01-Perulangan For dengan Range"
      ]
    },
    {
      "cell_type": "code",
      "execution_count": null,
      "metadata": {
        "colab": {
          "base_uri": "https://localhost:8080/"
        },
        "id": "_wF5CiS7VYAb",
        "outputId": "d5b72efa-a1ad-48e7-fd28-080eb86b2884"
      },
      "outputs": [
        {
          "name": "stdout",
          "output_type": "stream",
          "text": [
            "1\n",
            "2\n",
            "3\n",
            "4\n"
          ]
        }
      ],
      "source": [
        "for i in range(1, 5):\n",
        "  print(i)"
      ]
    },
    {
      "cell_type": "markdown",
      "metadata": {
        "id": "rf2ka6drlDfH"
      },
      "source": [
        "Praktikum 02-Perulangan While"
      ]
    },
    {
      "cell_type": "code",
      "execution_count": null,
      "metadata": {
        "colab": {
          "base_uri": "https://localhost:8080/"
        },
        "id": "Xve45GB6kpWa",
        "outputId": "d9108553-d9dc-45ba-9ed7-7ba71e97b328"
      },
      "outputs": [
        {
          "name": "stdout",
          "output_type": "stream",
          "text": [
            "Masukkan angka:5\n",
            "5\n",
            "4\n",
            "3\n",
            "2\n",
            "1\n"
          ]
        }
      ],
      "source": [
        "n = int(input(\"Masukkan angka:\"))\n",
        "while n > 0:\n",
        "  print(n)\n",
        "  n-= 1"
      ]
    },
    {
      "cell_type": "markdown",
      "metadata": {
        "id": "JZDf-GxslrfE"
      },
      "source": [
        "Praktikum 03-Nested Loop (Segitiga Bintang)"
      ]
    },
    {
      "cell_type": "code",
      "execution_count": null,
      "metadata": {
        "colab": {
          "base_uri": "https://localhost:8080/"
        },
        "id": "gUhl1OMllhlB",
        "outputId": "6288cb62-d133-4fcb-c10b-948b901e1219"
      },
      "outputs": [
        {
          "output_type": "stream",
          "name": "stdout",
          "text": [
            "*\n",
            "**\n",
            "***\n",
            "****\n"
          ]
        }
      ],
      "source": [
        "for i in range(1, 5):\n",
        "  for j in range(i):\n",
        "      print(\"*\", end=\"\")\n",
        "  print()"
      ]
    },
    {
      "cell_type": "markdown",
      "metadata": {
        "id": "JV_XGQAamVR_"
      },
      "source": [
        "Praktikum 04 - Break dan Continue"
      ]
    },
    {
      "cell_type": "code",
      "execution_count": null,
      "metadata": {
        "id": "_Ofuv2ZBl_oA",
        "colab": {
          "base_uri": "https://localhost:8080/"
        },
        "outputId": "826b4053-304c-46f5-e6b0-72d8adf36ead"
      },
      "outputs": [
        {
          "output_type": "stream",
          "name": "stdout",
          "text": [
            "Angka 5 ditemukan\n"
          ]
        }
      ],
      "source": [
        "for i in range(1, 10):\n",
        "  if i == 5:\n",
        "      print(\"Angka 5 ditemukan\")\n",
        "      break"
      ]
    },
    {
      "cell_type": "code",
      "execution_count": null,
      "metadata": {
        "colab": {
          "base_uri": "https://localhost:8080/"
        },
        "id": "u29sWfScmoWw",
        "outputId": "d082fff0-4b5f-4005-8268-14cf3fe70cac"
      },
      "outputs": [
        {
          "output_type": "stream",
          "name": "stdout",
          "text": [
            "2\n",
            "4\n"
          ]
        }
      ],
      "source": [
        "for i in range(1, 5):\n",
        "  if i % 2 == 1:\n",
        "    continue\n",
        "  print(i)"
      ]
    },
    {
      "cell_type": "markdown",
      "metadata": {
        "id": "q8J5GFJDnNw-"
      },
      "source": [
        "Praktikum 05 - For pada Dictionary (Key, Value)"
      ]
    },
    {
      "cell_type": "code",
      "execution_count": null,
      "metadata": {
        "colab": {
          "base_uri": "https://localhost:8080/"
        },
        "id": "fYhRIOOhnHxf",
        "outputId": "f5b066c6-099d-4f13-ed38-bbf3d8279aae"
      },
      "outputs": [
        {
          "name": "stdout",
          "output_type": "stream",
          "text": [
            "Nama : Andi\n",
            "Umur : 20\n",
            "Prodi : TRK\n"
          ]
        }
      ],
      "source": [
        "data = {\"Nama\": \"Andi\", \"Umur\":\"20\", \"Prodi\": \"TRK\"}\n",
        "\n",
        "for k, v in data.items():\n",
        "  print(k, \":\", v)"
      ]
    },
    {
      "cell_type": "markdown",
      "metadata": {
        "id": "MesTVfhBpMr9"
      },
      "source": [
        "Praktikum 06 - For dengan Enumerate"
      ]
    },
    {
      "cell_type": "code",
      "execution_count": null,
      "metadata": {
        "colab": {
          "base_uri": "https://localhost:8080/"
        },
        "id": "YtJPlbNNolSk",
        "outputId": "87c5f107-315f-4830-b282-289a90cac6af"
      },
      "outputs": [
        {
          "name": "stdout",
          "output_type": "stream",
          "text": [
            "1 Andi\n",
            "2 Budi\n",
            "3 Cici\n"
          ]
        }
      ],
      "source": [
        "daftar = [\"Andi\", \"Budi\", \"Cici\"]\n",
        "\n",
        "for i, nama in enumerate(daftar, start=1):\n",
        "  print(i, nama)"
      ]
    },
    {
      "cell_type": "markdown",
      "metadata": {
        "id": "aK6L5Kbm1K1f"
      },
      "source": [
        "Praktikum 07 - Studi Kasus: Program Kasir Multi-Item"
      ]
    },
    {
      "cell_type": "code",
      "execution_count": null,
      "metadata": {
        "colab": {
          "base_uri": "https://localhost:8080/"
        },
        "id": "O5h2TosIwA7v",
        "outputId": "089dc42a-db4a-4169-8080-d117e9b89a01"
      },
      "outputs": [
        {
          "name": "stdout",
          "output_type": "stream",
          "text": [
            "Masukkan nama barang (ketik 'selesai' untuk berhenti): Buku\n",
            "Masukkan harga Buku: 50.000\n",
            "Masukkan jumlah Buku: 2\n",
            "Masukkan nama barang (ketik 'selesai' untuk berhenti): Pulpen\n",
            "Masukkan harga Pulpen: 5000\n",
            "Masukkan jumlah Pulpen: 3\n",
            "Masukkan nama barang (ketik 'selesai' untuk berhenti): selesai\n",
            "\n",
            "===== Struk Belanja =====\n",
            "Total Belanja : Rp 15100.0\n"
          ]
        }
      ],
      "source": [
        "total = 0\n",
        "\n",
        "while True:\n",
        "      barang = input(\"Masukkan nama barang (ketik 'selesai' untuk berhenti): \")\n",
        "      if barang.lower() == \"selesai\":\n",
        "          break\n",
        "      harga = float(input(f\"Masukkan harga {barang}: \"))\n",
        "      jumlah = int(input(f\"Masukkan jumlah {barang}: \"))\n",
        "      subtotal = harga * jumlah\n",
        "      total += subtotal\n",
        "\n",
        "print(\"\\n===== Struk Belanja =====\")\n",
        "print(f\"Total Belanja : Rp {total}\")"
      ]
    },
    {
      "cell_type": "markdown",
      "source": [
        "Penugasan 1 - Menampilkan Deret Angka\n"
      ],
      "metadata": {
        "id": "JHgiMH6FQIQM"
      }
    },
    {
      "cell_type": "code",
      "source": [
        "for i in range (3, 30, 3):\n",
        "  print(i)"
      ],
      "metadata": {
        "colab": {
          "base_uri": "https://localhost:8080/"
        },
        "id": "NNaGeXx1QycQ",
        "outputId": "018d3a67-b678-4d7f-917b-6d2ad46e2b12"
      },
      "execution_count": null,
      "outputs": [
        {
          "output_type": "stream",
          "name": "stdout",
          "text": [
            "3\n",
            "6\n",
            "9\n",
            "12\n",
            "15\n",
            "18\n",
            "21\n",
            "24\n",
            "27\n"
          ]
        }
      ]
    },
    {
      "cell_type": "markdown",
      "source": [
        "Penugasan 2 - Hitung Faktorial\n"
      ],
      "metadata": {
        "id": "bMn7oFvxRiUO"
      }
    },
    {
      "cell_type": "code",
      "source": [
        "angka = int(input(\"Masukkan bilangan bulat positif: \"))\n",
        "faktorial = 1\n",
        "\n",
        "i = angka\n",
        "while i > 0:\n",
        "  faktorial = faktorial * i\n",
        "  i = i - 1\n",
        "\n",
        "print(f\"Faktorial dari {angka} adalah {faktorial}\")"
      ],
      "metadata": {
        "colab": {
          "base_uri": "https://localhost:8080/"
        },
        "id": "GJz4r-RuRajP",
        "outputId": "00cbce30-020f-4610-c95d-b54e2926b013"
      },
      "execution_count": null,
      "outputs": [
        {
          "output_type": "stream",
          "name": "stdout",
          "text": [
            "Masukkan bilangan bulat positif: 5\n",
            "Faktorial dari 5 adalah 120\n"
          ]
        }
      ]
    },
    {
      "cell_type": "markdown",
      "source": [
        "Penugasan 3 - Pola Segitiga Terbalik"
      ],
      "metadata": {
        "id": "hgnO7i7eTLtN"
      }
    },
    {
      "cell_type": "code",
      "source": [
        "for i in range(5, 0, -1):\n",
        "  for j in range(i):\n",
        "    print(\"*\", end=\"\")\n",
        "  print()"
      ],
      "metadata": {
        "colab": {
          "base_uri": "https://localhost:8080/"
        },
        "id": "spCsLQ44SeTn",
        "outputId": "4957f5da-8ada-4b19-d028-9037cc3ebc26"
      },
      "execution_count": null,
      "outputs": [
        {
          "output_type": "stream",
          "name": "stdout",
          "text": [
            "*****\n",
            "****\n",
            "***\n",
            "**\n",
            "*\n"
          ]
        }
      ]
    },
    {
      "cell_type": "markdown",
      "source": [
        "Penugasan 4 - Cari Bilangan Prima dengan Break\n"
      ],
      "metadata": {
        "id": "I9uQVXX2UY9B"
      }
    },
    {
      "cell_type": "code",
      "source": [
        "angka = int(input(\"Masukkan bilangan bulat positif: \"))\n",
        "\n",
        "is_prima = True\n",
        "\n",
        "if angka <= 1:\n",
        "  is_prima = False\n",
        "else:\n",
        "  for i in range(2, angka):\n",
        "    if angka % i == 0:\n",
        "      is_prima = False\n",
        "      break\n",
        "\n",
        "if is_prima:\n",
        "  print(f\"{angka} adalah bilangan prima\")\n",
        "else:\n",
        "  print(f\"{angka} bukan bilangan prima\")"
      ],
      "metadata": {
        "colab": {
          "base_uri": "https://localhost:8080/"
        },
        "id": "ifEGop2vUO0S",
        "outputId": "e27344a2-770d-44c4-b9b9-f5e8bcf2df24"
      },
      "execution_count": null,
      "outputs": [
        {
          "output_type": "stream",
          "name": "stdout",
          "text": [
            "Masukkan bilangan bulat positif: 5\n",
            "5 adalah bilangan prima\n"
          ]
        }
      ]
    },
    {
      "cell_type": "markdown",
      "source": [
        "Penugasan 4 - Tampilkan Hanya Bilangan Genap dengan Continue"
      ],
      "metadata": {
        "id": "dGzQ6bZ3YbOq"
      }
    },
    {
      "cell_type": "code",
      "source": [
        "for i in range(1, 20):\n",
        "  if i % 2 == 1:\n",
        "    continue\n",
        "  print(i)"
      ],
      "metadata": {
        "colab": {
          "base_uri": "https://localhost:8080/"
        },
        "id": "AHAJgSY4Y-_b",
        "outputId": "8d149f75-60c5-4a05-9bd1-1887e2147baf"
      },
      "execution_count": null,
      "outputs": [
        {
          "output_type": "stream",
          "name": "stdout",
          "text": [
            "2\n",
            "4\n",
            "6\n",
            "8\n",
            "10\n",
            "12\n",
            "14\n",
            "16\n",
            "18\n"
          ]
        }
      ]
    },
    {
      "cell_type": "markdown",
      "source": [
        "Penugasan 5 - Iterasi Dictionary Mahasiswa"
      ],
      "metadata": {
        "id": "6NYo4qEUagsq"
      }
    },
    {
      "cell_type": "code",
      "source": [
        "data = {\"Nama\": \"Budi\", \"Umur\": 21, \"Prodi\": \"Teknik Komputer\"}\n",
        "\n",
        "for k, v in data.items():\n",
        "  print(k, \":\", v)"
      ],
      "metadata": {
        "colab": {
          "base_uri": "https://localhost:8080/"
        },
        "id": "FBC0n3_uaQ8M",
        "outputId": "f4026120-b957-49da-9186-919cdf31a3da"
      },
      "execution_count": null,
      "outputs": [
        {
          "output_type": "stream",
          "name": "stdout",
          "text": [
            "Nama : Budi\n",
            "Umur : 21\n",
            "Prodi : Teknik Komputer\n"
          ]
        }
      ]
    },
    {
      "cell_type": "markdown",
      "source": [
        "Penugasan 6 - Enumerate Daftar Barang"
      ],
      "metadata": {
        "id": "KRcjDsLTb3XI"
      }
    },
    {
      "cell_type": "code",
      "source": [
        "daftar = [\"Buku\", \"Pulpen\", \"Tas\"]\n",
        "\n",
        "for i, nama in enumerate(daftar, start=1):\n",
        "  print(i, nama)"
      ],
      "metadata": {
        "colab": {
          "base_uri": "https://localhost:8080/"
        },
        "id": "lRlC1rrubpDl",
        "outputId": "5c89475f-37a9-4d67-fee1-d5f831865c81"
      },
      "execution_count": null,
      "outputs": [
        {
          "output_type": "stream",
          "name": "stdout",
          "text": [
            "1 Buku\n",
            "2 Pulpen\n",
            "3 Tas\n"
          ]
        }
      ]
    },
    {
      "cell_type": "markdown",
      "source": [
        "Penugasan 7 - Kasir Diskon\n"
      ],
      "metadata": {
        "id": "Fd802pD2cikj"
      }
    },
    {
      "cell_type": "code",
      "source": [
        "total = 0\n",
        "\n",
        "print(\"Masukkan nama barang dan harga.\")\n",
        "print(\"Ketik 'selesai' untuk mengakhiri\")\n",
        "\n",
        "while True:\n",
        "      barang = input(\"Masukkan nama barang : \")\n",
        "      if barang.lower() == \"selesai\":\n",
        "          break\n",
        "      harga = float(input(f\"Masukkan harga {barang}: \"))\n",
        "      jumlah = int(input(f\"Masukkan jumlah {barang}: \"))\n",
        "      subtotal = harga * jumlah\n",
        "      total += subtotal\n",
        "      diskon = 0\n",
        "      if total >= 200000:\n",
        "        diskon = 0.10 * total\n",
        "        total_bayar = total - diskon\n",
        "        pesan_diskon = \"Diskon 10%\"\n",
        "      else:\n",
        "        pesan_diskon = \"Maaf Anda Tidak Mendapatkan Diskon\"\n",
        "\n",
        "diskon = int(diskon)\n",
        "total_bayar = int(total_bayar)\n",
        "print(\"\\n===== Struk Belanja =====\")\n",
        "print(f\"Total Belanja : Rp. {total}\")\n",
        "print(f\"Diskon {pesan_diskon} : Rp. {diskon}\")\n",
        "print(f\"Total Belanja : Rp {total_bayar}\")"
      ],
      "metadata": {
        "colab": {
          "base_uri": "https://localhost:8080/"
        },
        "id": "pSxzDLUccgGT",
        "outputId": "dd9e4df9-2bef-4a6b-b975-fd5d40815f51"
      },
      "execution_count": null,
      "outputs": [
        {
          "output_type": "stream",
          "name": "stdout",
          "text": [
            "Masukkan nama barang dan harga.\n",
            "Ketik 'selesai' untuk mengakhiri\n",
            "Masukkan nama barang : tas\n",
            "Masukkan harga tas: 400000\n",
            "Masukkan jumlah tas: 2\n",
            "Masukkan nama barang : buku\n",
            "Masukkan harga buku: 20000\n",
            "Masukkan jumlah buku: 1\n",
            "Masukkan nama barang : selesai\n",
            "\n",
            "===== Struk Belanja =====\n",
            "Total Belanja : Rp. 820000.0\n",
            "Diskon Diskon 10% : Rp. 82000\n",
            "Total Belanja : Rp 738000\n"
          ]
        }
      ]
    },
    {
      "cell_type": "code",
      "source": [],
      "metadata": {
        "id": "7l7PxOgJfOtg"
      },
      "execution_count": null,
      "outputs": []
    }
  ],
  "metadata": {
    "colab": {
      "provenance": [],
      "authorship_tag": "ABX9TyPXOAIX21XcKCPA/4Jhpi87",
      "include_colab_link": true
    },
    "kernelspec": {
      "display_name": "Python 3",
      "name": "python3"
    },
    "language_info": {
      "name": "python"
    }
  },
  "nbformat": 4,
  "nbformat_minor": 0
}