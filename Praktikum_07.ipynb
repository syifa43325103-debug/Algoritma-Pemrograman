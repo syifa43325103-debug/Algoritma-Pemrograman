{
  "nbformat": 4,
  "nbformat_minor": 0,
  "metadata": {
    "colab": {
      "provenance": [],
      "authorship_tag": "ABX9TyObaz8WQGFD2ob8X5yAOKr4",
      "include_colab_link": true
    },
    "kernelspec": {
      "name": "python3",
      "display_name": "Python 3"
    },
    "language_info": {
      "name": "python"
    }
  },
  "cells": [
    {
      "cell_type": "markdown",
      "metadata": {
        "id": "view-in-github",
        "colab_type": "text"
      },
      "source": [
        "<a href=\"https://colab.research.google.com/github/syifa43325103-debug/Algoritma-Pemrograman/blob/main/Praktikum_07.ipynb\" target=\"_parent\"><img src=\"https://colab.research.google.com/assets/colab-badge.svg\" alt=\"Open In Colab\"/></a>"
      ]
    },
    {
      "cell_type": "markdown",
      "source": [
        "Praktikum 01 - Tuple: Data Tetap yang Tidak Bisa Diubah"
      ],
      "metadata": {
        "id": "O4wEGlfmsRN9"
      }
    },
    {
      "cell_type": "code",
      "execution_count": null,
      "metadata": {
        "colab": {
          "base_uri": "https://localhost:8080/"
        },
        "id": "uDPRdAWMr7e9",
        "outputId": "f3d55f83-4529-4cae-f864-1f02ad6e80ea"
      },
      "outputs": [
        {
          "output_type": "stream",
          "name": "stdout",
          "text": [
            "Lintang: 7.05\n",
            "Bujur: 110.44\n"
          ]
        }
      ],
      "source": [
        "koordinat = (7.05, 110.44)\n",
        "print(\"Lintang:\", koordinat[0])\n",
        "print(\"Bujur:\", koordinat[1])"
      ]
    },
    {
      "cell_type": "markdown",
      "source": [
        "Praktikum 02 - Dictionary Dasar: Menyimpan Data Mahasiswa"
      ],
      "metadata": {
        "id": "JR22-gFsseAU"
      }
    },
    {
      "cell_type": "code",
      "source": [
        "mahasiswa = {\n",
        "    \"NIM\": \"20251001\",\n",
        "    \"Nama\": \"Andi\",\n",
        "    \"Prodi\": \"TRK\"\n",
        "}\n",
        "print(\"NIM :\", mahasiswa[\"NIM\"])\n",
        "print(\"Nama:\", mahasiswa[\"Nama\"])\n",
        "print(\"Prodi:\", mahasiswa[\"Prodi\"])\n"
      ],
      "metadata": {
        "colab": {
          "base_uri": "https://localhost:8080/"
        },
        "id": "pFhQVBMYsJwK",
        "outputId": "09eca4af-df2d-454a-9ee9-791117cd0259"
      },
      "execution_count": null,
      "outputs": [
        {
          "output_type": "stream",
          "name": "stdout",
          "text": [
            "NIM : 20251001\n",
            "Nama: Andi\n",
            "Prodi: TRK\n"
          ]
        }
      ]
    },
    {
      "cell_type": "markdown",
      "source": [
        "Praktikum 03 - Operasi pada Dictionary"
      ],
      "metadata": {
        "id": "TnjNplO2tqX_"
      }
    },
    {
      "cell_type": "code",
      "source": [
        "mahasiswa = {\n",
        "     \"NIM\": \"20251001\",\n",
        "     \"Nama\": \"Andi\",\n",
        "     \"Prodi\": \"TRK\"\n",
        "}\n",
        "\n",
        "mahasiswa[\"Umur\"] = 20              # menambah data\n",
        "mahasiswa[\"Prodi\"] = \"Teknik Komputer\"  # memperbarui data\n",
        "del mahasiswa[\"Umur\"]               # menghapus data\n",
        "\n",
        "print(mahasiswa)\n"
      ],
      "metadata": {
        "colab": {
          "base_uri": "https://localhost:8080/"
        },
        "id": "z1SRtXMUtocw",
        "outputId": "4da4baa5-1d8b-48cc-812e-d9a3fb9bce25"
      },
      "execution_count": null,
      "outputs": [
        {
          "output_type": "stream",
          "name": "stdout",
          "text": [
            "{'NIM': '20251001', 'Nama': 'Andi', 'Prodi': 'Teknik Komputer'}\n"
          ]
        }
      ]
    },
    {
      "cell_type": "markdown",
      "source": [
        "Praktikum 04 - Set dan Operasi Himpunan"
      ],
      "metadata": {
        "id": "JYHK3bDRuWJ2"
      }
    },
    {
      "cell_type": "code",
      "source": [
        "A = {1, 2, 3, 4}\n",
        "B = {3, 4, 5, 6}\n",
        "\n",
        "print(\"Union:\", A | B)\n",
        "print(\"Intersection:\", A & B)\n",
        "print(\"Difference:\", A - B)\n"
      ],
      "metadata": {
        "colab": {
          "base_uri": "https://localhost:8080/"
        },
        "id": "UR5sAtqauKh3",
        "outputId": "395aac5d-4d26-489e-f310-193ece09c149"
      },
      "execution_count": null,
      "outputs": [
        {
          "output_type": "stream",
          "name": "stdout",
          "text": [
            "Union: {1, 2, 3, 4, 5, 6}\n",
            "Intersection: {3, 4}\n",
            "Difference: {1, 2}\n"
          ]
        }
      ]
    },
    {
      "cell_type": "markdown",
      "source": [
        "Praktikum 05 - Studi Kasus: Data Mahasiswa dan Mata Kuliah"
      ],
      "metadata": {
        "id": "XRhvjaSjuxd4"
      }
    },
    {
      "cell_type": "code",
      "source": [
        "mhs1 = {\"Algoritma\", \"Matematika\", \"Bahasa Inggris\"}\n",
        "mhs2 = {\"Algoritma\", \"Basis Data\", \"Matematika\"}\n",
        "\n",
        "print(\"Mata kuliah Mhs1:\", mhs1)\n",
        "print(\"Mata kuliah Mhs2:\", mhs2)\n",
        "print(\"Mata kuliah yang sama:\", mhs1 & mhs2)\n"
      ],
      "metadata": {
        "colab": {
          "base_uri": "https://localhost:8080/"
        },
        "id": "NmfcI7iBupOG",
        "outputId": "34204a51-4dbe-4784-b3c2-f5fd39eef939"
      },
      "execution_count": null,
      "outputs": [
        {
          "output_type": "stream",
          "name": "stdout",
          "text": [
            "Mata kuliah Mhs1: {'Algoritma', 'Matematika', 'Bahasa Inggris'}\n",
            "Mata kuliah Mhs2: {'Algoritma', 'Basis Data', 'Matematika'}\n",
            "Mata kuliah yang sama: {'Algoritma', 'Matematika'}\n"
          ]
        }
      ]
    },
    {
      "cell_type": "markdown",
      "source": [
        "Praktikum 06 - Studi Kasus Dictionary: Daftar Nilai Mahasiswa"
      ],
      "metadata": {
        "id": "BQ2iXpttvPoj"
      }
    },
    {
      "cell_type": "code",
      "source": [
        "nilai_mahasiswa = {\n",
        "     \"Andi\": 80,\n",
        "     \"Budi\": 75,\n",
        "     \"Cici\": 90\n",
        "}\n",
        "\n",
        "for nama, nilai in nilai_mahasiswa.items():\n",
        "    print(f\"{nama}: {nilai}\")\n",
        "\n",
        "rata = sum(nilai_mahasiswa.values()) / len(nilai_mahasiswa)\n",
        "print(f\"Rata-rata nilai: {rata:.2f}\")\n"
      ],
      "metadata": {
        "colab": {
          "base_uri": "https://localhost:8080/"
        },
        "id": "rVOz6ZBKvG8_",
        "outputId": "e1bd5961-262f-4da7-9974-beeeee9d0730"
      },
      "execution_count": null,
      "outputs": [
        {
          "output_type": "stream",
          "name": "stdout",
          "text": [
            "Andi: 80\n",
            "Budi: 75\n",
            "Cici: 90\n",
            "Rata-rata nilai: 81.67\n"
          ]
        }
      ]
    },
    {
      "cell_type": "markdown",
      "source": [
        "Penugasan No. 3 - Tuple Sederhana"
      ],
      "metadata": {
        "id": "tkyiUvS7iZrG"
      }
    },
    {
      "cell_type": "code",
      "source": [
        "print(\"Tuple Sederhana\")\n",
        "data_mahasiswa = (\"Syifa\", 18, \"Teknologi Rekayasa Komputer\")\n",
        "\n",
        "print(f\"Data Tuple: {data_mahasiswa}\")\n",
        "print(f\"Nama: {data_mahasiswa[0]}\")\n",
        "print(f\"Umur: {data_mahasiswa[1]}\")\n",
        "print(f\"Prodi: {data_mahasiswa[2]}\")"
      ],
      "metadata": {
        "colab": {
          "base_uri": "https://localhost:8080/"
        },
        "id": "JwCYMSuSvjf2",
        "outputId": "f7967351-1077-4315-e9a7-00d12c030d93"
      },
      "execution_count": null,
      "outputs": [
        {
          "output_type": "stream",
          "name": "stdout",
          "text": [
            "Tuple Sederhana\n",
            "Data Tuple: ('Syifa', 18, 'Teknologi Rekayasa Komputer')\n",
            "Nama: Syifa\n",
            "Umur: 18\n",
            "Prodi: Teknologi Rekayasa Komputer\n"
          ]
        }
      ]
    },
    {
      "cell_type": "markdown",
      "source": [
        "Penugasan No. 4 - Tuple Tidak Bisa Diubah"
      ],
      "metadata": {
        "id": "JmpnjxcyjUED"
      }
    },
    {
      "cell_type": "code",
      "source": [
        "angka = (1, 2, 3)\n",
        "angka[0] = 10 #mencoba mengubah elemen tuple"
      ],
      "metadata": {
        "colab": {
          "base_uri": "https://localhost:8080/",
          "height": 158
        },
        "id": "vUgTIYkZi_Td",
        "outputId": "12e3311c-08e3-46d3-d089-8c22558354a5"
      },
      "execution_count": null,
      "outputs": [
        {
          "output_type": "error",
          "ename": "TypeError",
          "evalue": "'tuple' object does not support item assignment",
          "traceback": [
            "\u001b[0;31m---------------------------------------------------------------------------\u001b[0m",
            "\u001b[0;31mTypeError\u001b[0m                                 Traceback (most recent call last)",
            "\u001b[0;32m/tmp/ipython-input-3228186145.py\u001b[0m in \u001b[0;36m<cell line: 0>\u001b[0;34m()\u001b[0m\n\u001b[1;32m      1\u001b[0m \u001b[0mangka\u001b[0m \u001b[0;34m=\u001b[0m \u001b[0;34m(\u001b[0m\u001b[0;36m1\u001b[0m\u001b[0;34m,\u001b[0m \u001b[0;36m2\u001b[0m\u001b[0;34m,\u001b[0m \u001b[0;36m3\u001b[0m\u001b[0;34m)\u001b[0m\u001b[0;34m\u001b[0m\u001b[0;34m\u001b[0m\u001b[0m\n\u001b[0;32m----> 2\u001b[0;31m \u001b[0mangka\u001b[0m\u001b[0;34m[\u001b[0m\u001b[0;36m0\u001b[0m\u001b[0;34m]\u001b[0m \u001b[0;34m=\u001b[0m \u001b[0;36m10\u001b[0m \u001b[0;31m#mencoba mengubah elemen tuple\u001b[0m\u001b[0;34m\u001b[0m\u001b[0;34m\u001b[0m\u001b[0m\n\u001b[0m",
            "\u001b[0;31mTypeError\u001b[0m: 'tuple' object does not support item assignment"
          ]
        }
      ]
    },
    {
      "cell_type": "markdown",
      "source": [
        "Penugasan No. 5 - Dictionary Dasar"
      ],
      "metadata": {
        "id": "tbQ7lYZlkPZV"
      }
    },
    {
      "cell_type": "code",
      "source": [
        "print(\"Dictionary Dasar\")\n",
        "data_buku = {\n",
        "    \"judul\": \"Algoritma\",\n",
        "    \"penulis\": \"Munir\",\n",
        "    \"tahun_terbit\": 2021\n",
        "}\n",
        "\n",
        "print(f\"Judul: {data_buku['judul']}\")\n",
        "print(f\"Penulis: {data_buku['penulis']}\")\n",
        "print(f\"Tahun Terbit: {data_buku['tahun_terbit']}\")"
      ],
      "metadata": {
        "colab": {
          "base_uri": "https://localhost:8080/"
        },
        "id": "7dwiQoHVkNgP",
        "outputId": "9c344983-a98d-42ae-df64-b8d32a9888c7"
      },
      "execution_count": null,
      "outputs": [
        {
          "output_type": "stream",
          "name": "stdout",
          "text": [
            "Dictionary Dasar\n",
            "Judul: Algoritma\n",
            "Penulis: Munir\n",
            "Tahun Terbit: 2021\n"
          ]
        }
      ]
    },
    {
      "cell_type": "markdown",
      "source": [
        "Penugasan No. 6 - Operasi Dictionary"
      ],
      "metadata": {
        "id": "vk4M2LNklZCl"
      }
    },
    {
      "cell_type": "code",
      "source": [
        "print(\"Operasi Dictionary\")\n",
        "data_dosen = {\"NIP\": \"12345\", \"Nama\": \"Budi\", \"Prodi\": \"TRK\"}\n",
        "print(f\"Dict Awal: {data_dosen}\")\n",
        "\n",
        "data_dosen[\"Umur\"] = 40\n",
        "print(f\"Setelah tambah umur: {data_dosen}\")\n",
        "\n",
        "data_dosen[\"Prodi\"] = \"Teknik Komputer\"\n",
        "print(f\"Setelah update prodi: {data_dosen}\")\n",
        "\n",
        "del data_dosen[\"Umur\"]\n",
        "\n",
        "print(\"\\nHasil akhir Dictionary Dosen\")\n",
        "print(data_dosen)"
      ],
      "metadata": {
        "colab": {
          "base_uri": "https://localhost:8080/"
        },
        "id": "nDqTDGz9lW5J",
        "outputId": "2478f297-33f7-439e-cabd-02fc9739672c"
      },
      "execution_count": null,
      "outputs": [
        {
          "output_type": "stream",
          "name": "stdout",
          "text": [
            "Operasi Dictionary\n",
            "Dict Awal: {'NIP': '12345', 'Nama': 'Budi', 'Prodi': 'TRK'}\n",
            "Setelah tambah umur: {'NIP': '12345', 'Nama': 'Budi', 'Prodi': 'TRK', 'Umur': 40}\n",
            "Setelah update prodi: {'NIP': '12345', 'Nama': 'Budi', 'Prodi': 'Teknik Komputer', 'Umur': 40}\n",
            "\n",
            "Hasil akhir Dictionary Dosen\n",
            "{'NIP': '12345', 'Nama': 'Budi', 'Prodi': 'Teknik Komputer'}\n"
          ]
        }
      ]
    },
    {
      "cell_type": "markdown",
      "source": [
        "Penugasan No. 7 - Set dan Himpunan"
      ],
      "metadata": {
        "id": "51fxXiiZmorK"
      }
    },
    {
      "cell_type": "code",
      "source": [
        "print(\"Set dan Himpunan\")\n",
        "A = {\"Matematika\", \"Algoritma\", \"Bahasa Inggris\"}\n",
        "B = {\"Matematika\", \"Basis Data\", \"Algoritma\"}\n",
        "\n",
        "print(f\"Set A: {A}\")\n",
        "print(f\"Set B: {B}\")\n",
        "\n",
        "union_set = A.union(B)\n",
        "print(f\"Union (Gabungan): {union_set}\")\n",
        "\n",
        "intersection_set = A.intersection(B)\n",
        "print(f\"Intersection (Irisan): {intersection_set}\")\n",
        "\n",
        "difference_set = A.difference(B)\n",
        "print(f\"Difference (A - B): {difference_set}\")"
      ],
      "metadata": {
        "colab": {
          "base_uri": "https://localhost:8080/"
        },
        "id": "1ZyjkVIbmlhP",
        "outputId": "b18b3bb3-738f-4a99-e611-3c05357c3a1d"
      },
      "execution_count": null,
      "outputs": [
        {
          "output_type": "stream",
          "name": "stdout",
          "text": [
            "Set dan Himpunan\n",
            "Set A: {'Algoritma', 'Matematika', 'Bahasa Inggris'}\n",
            "Set B: {'Algoritma', 'Matematika', 'Basis Data'}\n",
            "Union (Gabungan): {'Matematika', 'Bahasa Inggris', 'Basis Data', 'Algoritma'}\n",
            "Intersection (Irisan): {'Algoritma', 'Matematika'}\n",
            "Difference (A - B): {'Bahasa Inggris'}\n"
          ]
        }
      ]
    },
    {
      "cell_type": "markdown",
      "source": [
        "Penugasan No. 8 - Studi Kasus Dictionary"
      ],
      "metadata": {
        "id": "_F6zlw9anTFV"
      }
    },
    {
      "cell_type": "code",
      "source": [
        "print(\"Rata-rata Nilai Mahasiswa\")\n",
        "nilai_mahasiswa = {\n",
        "    \"Andi\": 85,\n",
        "    \"Budi\": 90,\n",
        "    \"Cici\": 78\n",
        "}\n",
        "\n",
        "print(\"\\nDaftar Nilai:\")\n",
        "for nama, nilai in nilai_mahasiswa.items():\n",
        "    print(f\"Mahasiswa {nama}:Nilai {nilai}\")\n",
        "\n",
        "total_nilai = sum(nilai_mahasiswa.values())\n",
        "jumlah_mahasiswa = len(nilai_mahasiswa)\n",
        "\n",
        "rata_rata = total_nilai / jumlah_mahasiswa\n",
        "\n",
        "print(f\"\\nTotal Nilai: {total_nilai}\")\n",
        "print(f\"Jumlah Mahasiswa: {jumlah_mahasiswa}\")\n",
        "print(f\"\\nRata-rata Nilai: {rata_rata:.2f}\")"
      ],
      "metadata": {
        "colab": {
          "base_uri": "https://localhost:8080/"
        },
        "id": "-q-V8Mn2nQ1B",
        "outputId": "8690c11a-d57e-4acb-f08e-7123974672df"
      },
      "execution_count": null,
      "outputs": [
        {
          "output_type": "stream",
          "name": "stdout",
          "text": [
            "Rata-rata Nilai Mahasiswa\n",
            "\n",
            "Daftar Nilai:\n",
            "Mahasiswa Andi:Nilai 85\n",
            "Mahasiswa Budi:Nilai 90\n",
            "Mahasiswa Cici:Nilai 78\n",
            "\n",
            "Total Nilai: 253\n",
            "Jumlah Mahasiswa: 3\n",
            "\n",
            "Rata-rata Nilai: 84.33\n"
          ]
        }
      ]
    },
    {
      "cell_type": "markdown",
      "source": [
        "Penugasan No. 9 - Studi Kasus Set-Klub Mahasiswa"
      ],
      "metadata": {
        "id": "2CQP31yqpFwZ"
      }
    },
    {
      "cell_type": "code",
      "source": [
        "print(\"Studi Kasus Set - Klub Mahasiswa\")\n",
        "klub_a = {\"Andi\", \"Budi\", \"Cici\"}\n",
        "klub_b = {\"Cici\", \"Deni\", \"Eka\"}\n",
        "\n",
        "print(f\"Klub A : {klub_a}\")\n",
        "print(f\"Klub B : {klub_b}\")\n",
        "\n",
        "semua_anggota = klub_a | klub_b\n",
        "print(f\"Daftar Seluruh Anggota : {semua_anggota}\")\n",
        "\n",
        "anggota_kedua_klub = klub_a & klub_b\n",
        "print(f\"Anggota Klub A dan B : {anggota_kedua_klub}\")\n",
        "anggota_klub_a = klub_a - klub_b\n",
        "print(f\"Anggota Klub A saja : {anggota_klub_a}\")"
      ],
      "metadata": {
        "colab": {
          "base_uri": "https://localhost:8080/"
        },
        "id": "jY2yZUsuokGW",
        "outputId": "2a2818da-1d49-46c5-c041-b56613d06a0a"
      },
      "execution_count": null,
      "outputs": [
        {
          "output_type": "stream",
          "name": "stdout",
          "text": [
            "Studi Kasus Set - Klub Mahasiswa\n",
            "Klub A : {'Andi', 'Cici', 'Budi'}\n",
            "Klub B : {'Cici', 'Deni', 'Eka'}\n",
            "Daftar Seluruh Anggota : {'Cici', 'Deni', 'Budi', 'Andi', 'Eka'}\n",
            "Anggota Klub A dan B : {'Cici'}\n",
            "Anggota Klub A saja : {'Andi', 'Budi'}\n"
          ]
        }
      ]
    },
    {
      "cell_type": "code",
      "source": [],
      "metadata": {
        "id": "Inh2OrJ7qc-V"
      },
      "execution_count": null,
      "outputs": []
    }
  ]
}