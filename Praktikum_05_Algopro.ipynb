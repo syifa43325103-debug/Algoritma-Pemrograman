{
  "nbformat": 4,
  "nbformat_minor": 0,
  "metadata": {
    "colab": {
      "provenance": [],
      "authorship_tag": "ABX9TyP+iZtrZbrG7gwfTOioQGxV",
      "include_colab_link": true
    },
    "kernelspec": {
      "name": "python3",
      "display_name": "Python 3"
    },
    "language_info": {
      "name": "python"
    }
  },
  "cells": [
    {
      "cell_type": "markdown",
      "metadata": {
        "id": "view-in-github",
        "colab_type": "text"
      },
      "source": [
        "<a href=\"https://colab.research.google.com/github/syifa43325103-debug/Algoritma-Pemrograman/blob/main/Praktikum_05_Algopro.ipynb\" target=\"_parent\"><img src=\"https://colab.research.google.com/assets/colab-badge.svg\" alt=\"Open In Colab\"/></a>"
      ]
    },
    {
      "cell_type": "markdown",
      "source": [
        "Praktikum 01 - Indexing dan Slicing"
      ],
      "metadata": {
        "id": "GCjSOoroPbim"
      }
    },
    {
      "cell_type": "code",
      "execution_count": null,
      "metadata": {
        "colab": {
          "base_uri": "https://localhost:8080/"
        },
        "id": "aMY755EyOhht",
        "outputId": "bea7a353-b09e-4f50-b33f-b3ce5b71445c"
      },
      "outputs": [
        {
          "output_type": "stream",
          "name": "stdout",
          "text": [
            "P\n",
            "Politeknik \n",
            "Semarang\n"
          ]
        }
      ],
      "source": [
        "teks = \"Politeknik Negeri Semarang\"\n",
        "print(teks[0])\n",
        "print(teks[0:11])\n",
        "print(teks[-8:])"
      ]
    },
    {
      "cell_type": "markdown",
      "source": [
        "Praktikum 02 - Method Bawaan String"
      ],
      "metadata": {
        "id": "Yl6ig_GwRrJ9"
      }
    },
    {
      "cell_type": "code",
      "source": [
        "teks = \" Politeknik Negeri Semarang \"\n",
        "print(teks.upper())\n",
        "print(teks.lower())\n",
        "print(teks.title())\n",
        "print(teks.strip())\n",
        "print(teks.split(\" \"))\n",
        "print(\"-\".join([\"Politeknik\",\"Negeri\",\"Semarang\"]))"
      ],
      "metadata": {
        "colab": {
          "base_uri": "https://localhost:8080/"
        },
        "id": "sJmViMn3Q--m",
        "outputId": "5fbbe48e-7680-4a9d-836a-e4725621e448"
      },
      "execution_count": null,
      "outputs": [
        {
          "output_type": "stream",
          "name": "stdout",
          "text": [
            " POLITEKNIK NEGERI SEMARANG \n",
            " politeknik negeri semarang \n",
            " Politeknik Negeri Semarang \n",
            "Politeknik Negeri Semarang\n",
            "['', 'Politeknik', 'Negeri', 'Semarang', '']\n",
            "Politeknik-Negeri-Semarang\n"
          ]
        }
      ]
    },
    {
      "cell_type": "markdown",
      "source": [
        "Praktikum 03 - Validasi Password"
      ],
      "metadata": {
        "id": "_9fHyKNORtrB"
      }
    },
    {
      "cell_type": "code",
      "source": [
        "password = input(\"Masukkan password: \")\n",
        "\n",
        "if len(password) >= 8:\n",
        "  print(\"Password valid\")\n",
        "else:\n",
        "  print(\"Password terlalu pendek\")"
      ],
      "metadata": {
        "colab": {
          "base_uri": "https://localhost:8080/"
        },
        "id": "epAOe3rjRdUP",
        "outputId": "1c7869f8-31bc-4a33-d022-cd63e69df995"
      },
      "execution_count": null,
      "outputs": [
        {
          "output_type": "stream",
          "name": "stdout",
          "text": [
            "Masukkan password: python123\n",
            "Password valid\n"
          ]
        }
      ]
    },
    {
      "cell_type": "code",
      "source": [
        "password = input(\"Masukkan password: \")\n",
        "\n",
        "if len(password) >= 8:\n",
        "  print(\"Password valid\")\n",
        "else:\n",
        "  print(\"Password terlalu pendek\")"
      ],
      "metadata": {
        "colab": {
          "base_uri": "https://localhost:8080/"
        },
        "id": "fOOSDZnhTWp-",
        "outputId": "4e3bbb89-b75a-4a78-930e-cd8c86e80665"
      },
      "execution_count": null,
      "outputs": [
        {
          "output_type": "stream",
          "name": "stdout",
          "text": [
            "Masukkan password: abc\n",
            "Password terlalu pendek\n"
          ]
        }
      ]
    },
    {
      "cell_type": "markdown",
      "source": [
        "Praktikum 04 - String Formatting dengan F-String"
      ],
      "metadata": {
        "id": "mR7_k5fGUOdz"
      }
    },
    {
      "cell_type": "code",
      "source": [
        "nama = input(\"Masukkan nama: \")\n",
        "umur = int(input(\"Masukkan umur: \"))\n",
        "\n",
        "print(f\"Nama saya {nama}, umur {umur} tahun.\")"
      ],
      "metadata": {
        "colab": {
          "base_uri": "https://localhost:8080/"
        },
        "id": "lrFBuRW4TMuv",
        "outputId": "944c2272-493c-4ff5-ed01-d34bd9f9ac5c"
      },
      "execution_count": null,
      "outputs": [
        {
          "output_type": "stream",
          "name": "stdout",
          "text": [
            "Masukkan nama: Budi\n",
            "Masukkan umur: 21\n",
            "Nama saya Budi, umur 21 tahun.\n"
          ]
        }
      ]
    },
    {
      "cell_type": "markdown",
      "source": [
        "Praktikum 05 - Operasi dalam F-String"
      ],
      "metadata": {
        "id": "tcMDcSXbUnRT"
      }
    },
    {
      "cell_type": "code",
      "source": [
        "a = int(input(\"Masukkan nilai a: \"))\n",
        "b = int(input(\"Masukkan nilai b: \"))\n",
        "\n",
        "print(f\"Hasil penjumlahan {a}+{b} = {a+b}\")\n",
        "print(f\"Hasil pembagian {a}/{b} = {a/b:.2f}\")"
      ],
      "metadata": {
        "colab": {
          "base_uri": "https://localhost:8080/"
        },
        "id": "6ysho2scUxbS",
        "outputId": "499860db-5f04-4574-cee7-e75fdf8cc805"
      },
      "execution_count": null,
      "outputs": [
        {
          "output_type": "stream",
          "name": "stdout",
          "text": [
            "Masukkan nilai a: 10\n",
            "Masukkan nilai b: 3\n",
            "Hasil penjumlahan 10+3 = 13\n",
            "Hasil pembagian 10/3 = 3.33\n"
          ]
        }
      ]
    },
    {
      "cell_type": "markdown",
      "source": [
        "Praktikum 06 - Casting String"
      ],
      "metadata": {
        "id": "S6_QWo1wetmT"
      }
    },
    {
      "cell_type": "code",
      "source": [
        "angka = 123\n",
        "teks = \"456\"\n",
        "\n",
        "print(\"Nilai:\" + str (angka))\n",
        "print(int(teks) + 10)"
      ],
      "metadata": {
        "id": "c2ary3QlU1Er",
        "colab": {
          "base_uri": "https://localhost:8080/"
        },
        "outputId": "c37dca7a-661b-4334-a49a-ec78f60f0f17"
      },
      "execution_count": null,
      "outputs": [
        {
          "output_type": "stream",
          "name": "stdout",
          "text": [
            "Nilai:123\n",
            "466\n"
          ]
        }
      ]
    },
    {
      "cell_type": "markdown",
      "source": [
        "Praktikum 07 - Studi Kasus Nyata: Analisis Kalimat"
      ],
      "metadata": {
        "id": "0DmecdnRgMQV"
      }
    },
    {
      "cell_type": "code",
      "source": [
        "kalimat = \"Saya kuliah di Politeknik Negeri Semarang\"\n",
        "daftar_kata = kalimat.split(\" \")\n",
        "\n",
        "print(f\"Jumlah kata: {len(daftar_kata)}\")\n",
        "for i, kata in enumerate(daftar_kata, start=1):\n",
        "  print(i, kata)\n"
      ],
      "metadata": {
        "colab": {
          "base_uri": "https://localhost:8080/"
        },
        "id": "gj45c1VrhCy-",
        "outputId": "20b0c3c4-dbeb-4667-87c5-b54a5558db82"
      },
      "execution_count": null,
      "outputs": [
        {
          "output_type": "stream",
          "name": "stdout",
          "text": [
            "Jumlah kata: 6\n",
            "1 Saya\n",
            "2 kuliah\n",
            "3 di\n",
            "4 Politeknik\n",
            "5 Negeri\n",
            "6 Semarang\n"
          ]
        }
      ]
    },
    {
      "cell_type": "markdown",
      "source": [
        "Penugasan No. 3 - Indexing dan Slicing\n",
        "\n"
      ],
      "metadata": {
        "id": "_bD-pBvWJHkm"
      }
    },
    {
      "cell_type": "code",
      "source": [
        "teks = \"Politeknik Negeri Semarang\"\n",
        "print(teks[0])\n",
        "print(teks[-1])\n",
        "print(teks[11:17])"
      ],
      "metadata": {
        "id": "7zjg1Tlnjftc",
        "colab": {
          "base_uri": "https://localhost:8080/"
        },
        "outputId": "809aa4a0-3b65-4df0-e5da-ea664006c285"
      },
      "execution_count": null,
      "outputs": [
        {
          "output_type": "stream",
          "name": "stdout",
          "text": [
            "P\n",
            "g\n",
            "Negeri\n"
          ]
        }
      ]
    },
    {
      "cell_type": "markdown",
      "source": [
        "Penugasan No. 4 - Manipulasi String"
      ],
      "metadata": {
        "id": "NjCq0x1NMhQZ"
      }
    },
    {
      "cell_type": "code",
      "source": [
        "teks = input(\"Masukkan teks:\")\n",
        "\n",
        "print(\"\\n=== HASIL ===\")\n",
        "print(\"Huruf kapital :\", teks.upper())\n",
        "print(\"Huruf kecil :\", teks.lower())\n",
        "panjang = len(teks)\n",
        "print(\"Panjang kalimat :\", panjang)"
      ],
      "metadata": {
        "colab": {
          "base_uri": "https://localhost:8080/"
        },
        "id": "u_ZIf_zOL_JC",
        "outputId": "dced926f-22e8-4be4-a79a-b7ade69303ea"
      },
      "execution_count": null,
      "outputs": [
        {
          "output_type": "stream",
          "name": "stdout",
          "text": [
            "Masukkan teks:polines keren\n",
            "\n",
            "=== HASIL ===\n",
            "Huruf kapital : POLINES KEREN\n",
            "Huruf kecil : polines keren\n",
            "Panjang kalimat : 13\n"
          ]
        }
      ]
    },
    {
      "cell_type": "markdown",
      "source": [
        "Penugasan No. 5 - Validasi Username"
      ],
      "metadata": {
        "id": "iKyVxHUPVWVj"
      }
    },
    {
      "cell_type": "code",
      "source": [
        "username = input(\"Masukkan username:\")\n",
        "\n",
        "if \" \" in username:\n",
        "  print(\"Username tidak boleh mengandung spasi\")\n",
        "else:\n",
        "  print(\"Username valid\")"
      ],
      "metadata": {
        "colab": {
          "base_uri": "https://localhost:8080/"
        },
        "id": "H2V8i-IrOpeT",
        "outputId": "66907e76-83c2-4969-b55b-ab4d34bc7b01"
      },
      "execution_count": null,
      "outputs": [
        {
          "output_type": "stream",
          "name": "stdout",
          "text": [
            "Masukkan username:anisasyifa\n",
            "Username valid\n"
          ]
        }
      ]
    },
    {
      "cell_type": "code",
      "source": [
        "username = input(\"Masukkan username:\")\n",
        "\n",
        "if \" \" in username:\n",
        "  print(\"Username tidak boleh mengandung spasi\")\n",
        "else:\n",
        "  print(\"Username valid\")"
      ],
      "metadata": {
        "colab": {
          "base_uri": "https://localhost:8080/"
        },
        "id": "W2p1olbWW5-I",
        "outputId": "f66fad35-7300-4f89-f908-fb6cd1417308"
      },
      "execution_count": null,
      "outputs": [
        {
          "output_type": "stream",
          "name": "stdout",
          "text": [
            "Masukkan username:anisa syifa\n",
            "Username tidak boleh mengandung spasi\n"
          ]
        }
      ]
    },
    {
      "cell_type": "markdown",
      "source": [
        "Penugasan No. 6 - String Formatting dengan F-String"
      ],
      "metadata": {
        "id": "SgFop2tWW_Zd"
      }
    },
    {
      "cell_type": "code",
      "source": [
        "nama = \"Syifa\"\n",
        "umur = \"18\"\n",
        "jurusan = \"Teknik Elektro\"\n",
        "\n",
        "print(f\"Nama: {nama}\")\n",
        "print(f\"Umur: {umur}\")\n",
        "print(f\"Jurusan: {jurusan}\")"
      ],
      "metadata": {
        "id": "SyGDGrQfWwZs",
        "colab": {
          "base_uri": "https://localhost:8080/"
        },
        "outputId": "634367e0-a7fc-498f-b429-346da03df9cd"
      },
      "execution_count": null,
      "outputs": [
        {
          "output_type": "stream",
          "name": "stdout",
          "text": [
            "Nama: Syifa\n",
            "Umur: 18\n",
            "Jurusan: Teknik Elektro\n"
          ]
        }
      ]
    },
    {
      "cell_type": "markdown",
      "source": [
        "Penugasan N0. 7 - Operasi dalam F-String"
      ],
      "metadata": {
        "id": "kxp5tf_YatCm"
      }
    },
    {
      "cell_type": "code",
      "source": [
        "a = int(input(\"Masukkan nilai a: \"))\n",
        "b = int(input(\"Masukkan nilai b: \"))\n",
        "\n",
        "print(f\"Hasil penjumlahan {a}+{b} = {a+b}\")\n",
        "print(f\"Hasil perkalian {a}*{b} = {a*b}\")\n",
        "print(f\"Hasil pembagian {a}/{b} = {a/b:.3f}\")"
      ],
      "metadata": {
        "colab": {
          "base_uri": "https://localhost:8080/"
        },
        "id": "HQb3AFPvZPTe",
        "outputId": "5ccb5eaa-f715-45cd-face-e9be849be7c7"
      },
      "execution_count": null,
      "outputs": [
        {
          "output_type": "stream",
          "name": "stdout",
          "text": [
            "Masukkan nilai a: 5\n",
            "Masukkan nilai b: 8\n",
            "Hasil penjumlahan 5+8 = 13\n",
            "Hasil perkalian 5*8 = 40\n",
            "Hasil pembagian 5/8 = 0.625\n"
          ]
        }
      ]
    },
    {
      "cell_type": "markdown",
      "source": [
        "Penugasan No. 8 - Casting Data"
      ],
      "metadata": {
        "id": "xbWlvNuOnU_T"
      }
    },
    {
      "cell_type": "code",
      "source": [
        "angka_str = (input(\"Masukkan angka:\"))\n",
        "\n",
        "angka_int = int(angka_str)\n",
        "kuadrat = angka_int ** 2\n",
        "angka_float = float(angka_str)\n",
        "\n",
        "print(f\"Kuadrat dari {angka_int}: {kuadrat}\")\n",
        "print(f\"Nilai float: {angka_float:.2f}\")"
      ],
      "metadata": {
        "colab": {
          "base_uri": "https://localhost:8080/"
        },
        "id": "EGtLH1asm3xf",
        "outputId": "2c4115d7-c058-408d-b076-39b473deaeae"
      },
      "execution_count": null,
      "outputs": [
        {
          "output_type": "stream",
          "name": "stdout",
          "text": [
            "Masukkan angka:6\n",
            "Kuadrat dari 6: 36\n",
            "Nilai float: 6.00\n"
          ]
        }
      ]
    },
    {
      "cell_type": "markdown",
      "source": [
        "Penugasan No. 9 - Studi Kasus-Analisis Teks"
      ],
      "metadata": {
        "id": "BaKkdZPot_DS"
      }
    },
    {
      "cell_type": "code",
      "source": [
        "teks = (input(\"Masukkan sebuah kalimat:\"))\n",
        "\n",
        "kata_list = teks.split()\n",
        "jumlah_kata = len(kata_list)\n",
        "kata_terpanjang = max(kata_list, key=len)\n",
        "kata_urut = sorted(kata_list)\n",
        "\n",
        "print(f\"Jumlah kata: {jumlah_kata}\")\n",
        "print(f\"Kata terpanjang: {kata_terpanjang}\")\n",
        "print(f\"Daftar kata urut abjad: {kata_urut}\")"
      ],
      "metadata": {
        "colab": {
          "base_uri": "https://localhost:8080/"
        },
        "id": "9sR91rm-qy5O",
        "outputId": "5f763ebf-a78c-4a41-f7ab-51b395017551"
      },
      "execution_count": null,
      "outputs": [
        {
          "output_type": "stream",
          "name": "stdout",
          "text": [
            "Masukkan sebuah kalimat:Algoritma dan pemrograman sangat menyenangkan\n",
            "Jumlah kata: 5\n",
            "Kata terpanjang: menyenangkan\n",
            "Daftar kata urut abjad: ['Algoritma', 'dan', 'menyenangkan', 'pemrograman', 'sangat']\n"
          ]
        }
      ]
    },
    {
      "cell_type": "code",
      "source": [],
      "metadata": {
        "id": "70astn61avQg"
      },
      "execution_count": null,
      "outputs": []
    }
  ]
}