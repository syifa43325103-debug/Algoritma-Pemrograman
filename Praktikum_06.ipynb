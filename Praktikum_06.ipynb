{
  "nbformat": 4,
  "nbformat_minor": 0,
  "metadata": {
    "colab": {
      "provenance": [],
      "authorship_tag": "ABX9TyPWxkotT/nqx+Rtu6ITUAaa",
      "include_colab_link": true
    },
    "kernelspec": {
      "name": "python3",
      "display_name": "Python 3"
    },
    "language_info": {
      "name": "python"
    }
  },
  "cells": [
    {
      "cell_type": "markdown",
      "metadata": {
        "id": "view-in-github",
        "colab_type": "text"
      },
      "source": [
        "<a href=\"https://colab.research.google.com/github/syifa43325103-debug/Algoritma-Pemrograman/blob/main/Praktikum_06.ipynb\" target=\"_parent\"><img src=\"https://colab.research.google.com/assets/colab-badge.svg\" alt=\"Open In Colab\"/></a>"
      ]
    },
    {
      "cell_type": "markdown",
      "source": [
        "Praktikum 01 - Membuat dan Mengakses List ID"
      ],
      "metadata": {
        "id": "MFhoKs8Bq2Qy"
      }
    },
    {
      "cell_type": "code",
      "execution_count": null,
      "metadata": {
        "colab": {
          "base_uri": "https://localhost:8080/"
        },
        "id": "CIWZeYSzqDJB",
        "outputId": "c7bfe9ae-706c-4c84-85b0-5e1cac0dd4f5"
      },
      "outputs": [
        {
          "output_type": "stream",
          "name": "stdout",
          "text": [
            "Andi\n",
            "Budi\n",
            "Cici\n"
          ]
        }
      ],
      "source": [
        "mahasiswa = [\"Andi\", \"Budi\", \"Cici\"]\n",
        "print(mahasiswa[0])\n",
        "print(mahasiswa[1])\n",
        "print(mahasiswa[-1])\n"
      ]
    },
    {
      "cell_type": "markdown",
      "source": [
        "Praktikum 02 - Update dan Operasi Dasar List"
      ],
      "metadata": {
        "id": "0OgT7__usgsI"
      }
    },
    {
      "cell_type": "code",
      "source": [
        "nilai = [85, 90, 78]\n",
        "nilai[1] = 95\n",
        "nilai.append(100)\n",
        "nilai.remove(78)\n",
        "print(nilai)"
      ],
      "metadata": {
        "colab": {
          "base_uri": "https://localhost:8080/"
        },
        "id": "ZhhBr4KEsHvb",
        "outputId": "11979c17-6b44-4460-c369-1ddd53c3b2b0"
      },
      "execution_count": null,
      "outputs": [
        {
          "output_type": "stream",
          "name": "stdout",
          "text": [
            "[85, 95, 100]\n"
          ]
        }
      ]
    },
    {
      "cell_type": "markdown",
      "source": [
        " Praktikum 03 - Slicing List"
      ],
      "metadata": {
        "id": "1eyurYIAteTu"
      }
    },
    {
      "cell_type": "code",
      "source": [
        "nilai = [85, 90, 78, 92, 88]\n",
        "print(nilai[0:3]) # [85, 90, 78]\n",
        "print(nilai[2:]) # [78, 92, 88]\n",
        "print(nilai[:3]) # [85, 90, 78]"
      ],
      "metadata": {
        "colab": {
          "base_uri": "https://localhost:8080/"
        },
        "id": "oTw9qI3KtcWx",
        "outputId": "533113aa-b10a-4087-ce9c-65f1295f8f93"
      },
      "execution_count": null,
      "outputs": [
        {
          "output_type": "stream",
          "name": "stdout",
          "text": [
            "[85, 90, 78]\n",
            "[78, 92, 88]\n",
            "[85, 90, 78]\n"
          ]
        }
      ]
    },
    {
      "cell_type": "markdown",
      "source": [
        "Praktikum 04 - List 2D (Matriks)"
      ],
      "metadata": {
        "id": "innBLjAZtuQ_"
      }
    },
    {
      "cell_type": "code",
      "source": [
        "matriks = [\n",
        "    [1, 2, 3],\n",
        "    [4, 5, 6],\n",
        "    [7, 8, 9],\n",
        "]\n",
        "print(matriks[0][0])\n",
        "print(matriks[1][2])\n",
        "print(matriks[2])"
      ],
      "metadata": {
        "colab": {
          "base_uri": "https://localhost:8080/"
        },
        "id": "7W5sNo9Otmud",
        "outputId": "c298c2fa-bbc7-496a-feae-db8cf3b77f8b"
      },
      "execution_count": null,
      "outputs": [
        {
          "output_type": "stream",
          "name": "stdout",
          "text": [
            "1\n",
            "6\n",
            "[7, 8, 9]\n"
          ]
        }
      ]
    },
    {
      "cell_type": "markdown",
      "source": [
        "Praktikum 05 - Operasi pada List 2D"
      ],
      "metadata": {
        "id": "HrxmZMiIuYXJ"
      }
    },
    {
      "cell_type": "code",
      "source": [
        "A = [[1, 2, 3], [4, 5, 6]]\n",
        "B = [[7, 8, 9], [10, 11, 12]]\n",
        "C = []\n",
        "\n",
        "for i in range(len(A)):\n",
        "  baris = []\n",
        "  for j in range(len(A[0])):\n",
        "    baris.append(A[i][j] + B[i][j])\n",
        "  C.append(baris)\n",
        "print(C)"
      ],
      "metadata": {
        "colab": {
          "base_uri": "https://localhost:8080/"
        },
        "id": "ZxaxvfY7QJxc",
        "outputId": "1e50f64b-5307-4693-9598-448a908200c1"
      },
      "execution_count": null,
      "outputs": [
        {
          "output_type": "stream",
          "name": "stdout",
          "text": [
            "[[8, 10, 12], [14, 16, 18]]\n"
          ]
        }
      ]
    },
    {
      "cell_type": "markdown",
      "source": [
        "Praktikum 06 - Studi Kasus: Pengelolaan Nilai Mahasiswa"
      ],
      "metadata": {
        "id": "tAKd3J6aywxn"
      }
    },
    {
      "cell_type": "code",
      "source": [
        "nilai = [\n",
        "    [80, 90, 85],\n",
        "    [70, 75, 80],\n",
        "    [88, 92, 84]\n",
        "]\n",
        "for i, baris in enumerate(nilai, start=1):\n",
        "  rata = sum(baris) / len(baris)\n",
        "  print(f\"Rata-rata mahasiswa {i}: {rata:.2f}\")"
      ],
      "metadata": {
        "colab": {
          "base_uri": "https://localhost:8080/"
        },
        "id": "4yjbxblBvGBn",
        "outputId": "aa7101d3-3238-4ba2-9157-10e24ae683cd"
      },
      "execution_count": null,
      "outputs": [
        {
          "output_type": "stream",
          "name": "stdout",
          "text": [
            "Rata-rata mahasiswa 1: 85.00\n",
            "Rata-rata mahasiswa 2: 75.00\n",
            "Rata-rata mahasiswa 3: 88.00\n"
          ]
        }
      ]
    },
    {
      "cell_type": "markdown",
      "source": [
        "Penugasan No. 3 - Akses Elemen List"
      ],
      "metadata": {
        "id": "thj6d1fqFMd9"
      }
    },
    {
      "cell_type": "code",
      "source": [
        "mahasiswa = [\"Bayu\", \"Ali\", \"Caca\", \"Jaka\", \"Lili\"]\n",
        "print(\"Nama pertama: \", mahasiswa[0])\n",
        "print(\"Nama terakhir: \", mahasiswa[-1])\n",
        "print(\"Nama pada indeks ke-2: \", mahasiswa[2])\n"
      ],
      "metadata": {
        "id": "AVZ8etf7zvuT",
        "colab": {
          "base_uri": "https://localhost:8080/"
        },
        "outputId": "02163c45-3ef3-4eae-f58f-1385bb41b98a"
      },
      "execution_count": null,
      "outputs": [
        {
          "output_type": "stream",
          "name": "stdout",
          "text": [
            "Nama pertama:  Bayu\n",
            "Nama terakhir:  Lili\n",
            "Nama pada indeks ke-2:  Caca\n"
          ]
        }
      ]
    },
    {
      "cell_type": "markdown",
      "source": [
        "Penugasan No. 4 - Operasi Dasar List"
      ],
      "metadata": {
        "id": "vgW33rkcI5wk"
      }
    },
    {
      "cell_type": "code",
      "source": [
        "nilai = [70, 75, 80]\n",
        "nilai[1] = 85\n",
        "nilai.append(90)\n",
        "nilai.remove(70)\n",
        "print(nilai)"
      ],
      "metadata": {
        "colab": {
          "base_uri": "https://localhost:8080/"
        },
        "id": "z8MWDpOPGk25",
        "outputId": "992a36cf-c1ee-4a34-91cb-7f5d1e46b650"
      },
      "execution_count": null,
      "outputs": [
        {
          "output_type": "stream",
          "name": "stdout",
          "text": [
            "[85, 80, 90]\n"
          ]
        }
      ]
    },
    {
      "cell_type": "markdown",
      "source": [
        "Penugasan No. 5 - Slicing List"
      ],
      "metadata": {
        "id": "J5VNdiiwLC1g"
      }
    },
    {
      "cell_type": "code",
      "source": [
        "nilai = [1, 2, 3, 4, 5, 6, 7, 8, 9, 10]\n",
        "print(\"3 elemen pertama: \", nilai[0:3])\n",
        "print(\"4 elemen terakhir: \", nilai[6:10])\n",
        "print(\"Elemen indeks genap: \", nilai[1], nilai[3], nilai[5], nilai[7], nilai[9])"
      ],
      "metadata": {
        "colab": {
          "base_uri": "https://localhost:8080/"
        },
        "id": "kmvawuJMJ4NM",
        "outputId": "2e18c788-9a5d-452a-e4ef-751d91cb7185"
      },
      "execution_count": null,
      "outputs": [
        {
          "output_type": "stream",
          "name": "stdout",
          "text": [
            "3 elemen pertama:  [1, 2, 3]\n",
            "4 elemen terakhir:  [7, 8, 9, 10]\n",
            "Elemen indeks genap:  2 4 6 8 10\n"
          ]
        }
      ]
    },
    {
      "cell_type": "markdown",
      "source": [
        "Penugasan No. 6 - List 2D Matriks"
      ],
      "metadata": {
        "id": "PwwWeEjJNQ7l"
      }
    },
    {
      "cell_type": "code",
      "source": [
        "matriks = [\n",
        "    [1, 2, 3],\n",
        "    [4, 5, 6],\n",
        "]\n",
        "print(\"Baris pertama kolom kedua: \", matriks[0][1])\n",
        "print(\"Baris kedua kolom ketiga: \", matriks[1][2])\n",
        "print(\"Seluruh baris pertama: \", matriks[0])"
      ],
      "metadata": {
        "colab": {
          "base_uri": "https://localhost:8080/"
        },
        "id": "-7H-YPcFMw8X",
        "outputId": "b74f4e5a-10c1-465e-c718-37d8fc39df0f"
      },
      "execution_count": null,
      "outputs": [
        {
          "output_type": "stream",
          "name": "stdout",
          "text": [
            "Baris pertama kolom kedua:  2\n",
            "Baris kedua kolom ketiga:  6\n",
            "Seluruh baris pertama:  [1, 2, 3]\n"
          ]
        }
      ]
    },
    {
      "cell_type": "markdown",
      "source": [
        "Penugasan No. 7 - Operasi Matriks 2D"
      ],
      "metadata": {
        "id": "EAGV3SnYPxlO"
      }
    },
    {
      "cell_type": "code",
      "source": [
        "A = [3, 5], [6, 8]\n",
        "B = [2, 7], [3, 9]\n",
        "C = []\n",
        "\n",
        "for i in range(len(A)):\n",
        "  baris = []\n",
        "  for j in range(len(A[0])):\n",
        "    baris.append(A[i][j] + B[i][j])\n",
        "  C.append(baris)\n",
        "print(C)"
      ],
      "metadata": {
        "colab": {
          "base_uri": "https://localhost:8080/"
        },
        "id": "T61KuHrHPIQk",
        "outputId": "bbbc0689-dd15-4e19-c1d2-04b89ebf26e3"
      },
      "execution_count": null,
      "outputs": [
        {
          "output_type": "stream",
          "name": "stdout",
          "text": [
            "[[5, 12], [9, 17]]\n"
          ]
        }
      ]
    },
    {
      "cell_type": "markdown",
      "source": [
        "Penugasan No. 8 - Rata-rata Nilai Mahasiswa"
      ],
      "metadata": {
        "id": "l4FRbRp6TTvE"
      }
    },
    {
      "cell_type": "code",
      "source": [
        " nilai = [\n",
        "    [75, 80, 85],\n",
        "    [60, 70, 65],\n",
        "    [90, 95, 92]\n",
        "]\n",
        "for i, baris in enumerate(nilai, start=1):\n",
        "  rata = sum(baris) / len(baris)\n",
        "  print(f\"Rata-rata mahasiswa {i}: {rata:.2f}\")"
      ],
      "metadata": {
        "colab": {
          "base_uri": "https://localhost:8080/"
        },
        "id": "22Va1gVrSF-p",
        "outputId": "1ceeffe4-8cf8-44e6-f984-c800088abf03"
      },
      "execution_count": null,
      "outputs": [
        {
          "output_type": "stream",
          "name": "stdout",
          "text": [
            "Rata-rata mahasiswa 1: 80.00\n",
            "Rata-rata mahasiswa 2: 65.00\n",
            "Rata-rata mahasiswa 3: 92.33\n"
          ]
        }
      ]
    },
    {
      "cell_type": "markdown",
      "source": [
        "Penugasan No. 9 - Data Toko"
      ],
      "metadata": {
        "id": "d8sVOF33U5Zz"
      }
    },
    {
      "cell_type": "code",
      "source": [
        "stok = [\n",
        "    [\"Buku\", 20],\n",
        "    [\"Pulpen\", 35],\n",
        "    [\"Penghapus\", 15]\n",
        "]\n",
        "\n",
        "nama_stok_terbanyak = \"\"\n",
        "jumlah_terbanyak = -1\n",
        "\n",
        "print(\"===== Daftar Stok Barang =====\")\n",
        "\n",
        "for barang in stok:\n",
        "    nama = barang[0]\n",
        "    jumlah = barang[1]\n",
        "\n",
        "    print(f\"Nama Barang: {nama}, Stok: {jumlah}\")\n",
        "\n",
        "    if jumlah > jumlah_terbanyak:\n",
        "        jumlah_terbanyak = jumlah\n",
        "        nama_stok_terbanyak = nama\n",
        "\n",
        "print(\"==============================\")\n",
        "print(f\"\\nBarang dengan STOK TERBANYAK adalah:\")\n",
        "print(f\"-> {nama_stok_terbanyak} dengan jumlah {jumlah_terbanyak} unit.\")\n"
      ],
      "metadata": {
        "colab": {
          "base_uri": "https://localhost:8080/"
        },
        "id": "k6OTGSw4U2CG",
        "outputId": "cdbd305e-625b-4457-e70b-208955278276"
      },
      "execution_count": null,
      "outputs": [
        {
          "output_type": "stream",
          "name": "stdout",
          "text": [
            "===== Daftar Stok Barang =====\n",
            "Nama Barang: Buku, Stok: 20\n",
            "Nama Barang: Pulpen, Stok: 35\n",
            "Nama Barang: Penghapus, Stok: 15\n",
            "==============================\n",
            "\n",
            "Barang dengan STOK TERBANYAK adalah:\n",
            "-> Pulpen dengan jumlah 35 unit.\n"
          ]
        }
      ]
    }
  ]
}