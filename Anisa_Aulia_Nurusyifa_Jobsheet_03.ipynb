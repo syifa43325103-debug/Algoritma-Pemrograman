{
  "nbformat": 4,
  "nbformat_minor": 0,
  "metadata": {
    "colab": {
      "provenance": [],
      "authorship_tag": "ABX9TyO1BoWSPlQIVhYM+3N/fkfL",
      "include_colab_link": true
    },
    "kernelspec": {
      "name": "python3",
      "display_name": "Python 3"
    },
    "language_info": {
      "name": "python"
    }
  },
  "cells": [
    {
      "cell_type": "markdown",
      "metadata": {
        "id": "view-in-github",
        "colab_type": "text"
      },
      "source": [
        "<a href=\"https://colab.research.google.com/github/syifa43325103-debug/Algoritma-Pemrograman/blob/main/Anisa_Aulia_Nurusyifa_Jobsheet_03.ipynb\" target=\"_parent\"><img src=\"https://colab.research.google.com/assets/colab-badge.svg\" alt=\"Open In Colab\"/></a>"
      ]
    },
    {
      "cell_type": "markdown",
      "source": [
        "Praktikum 01 - If Sederhana"
      ],
      "metadata": {
        "id": "XQtDNLIYJ-M_"
      }
    },
    {
      "cell_type": "code",
      "execution_count": null,
      "metadata": {
        "colab": {
          "base_uri": "https://localhost:8080/"
        },
        "id": "0ukuJWqZJhtG",
        "outputId": "b1e90ed2-7df1-4cc6-d9dc-9ff846aa0234"
      },
      "outputs": [
        {
          "output_type": "stream",
          "name": "stdout",
          "text": [
            "Masukkan nilai ujian:70\n",
            "Anda LULUS\n"
          ]
        }
      ],
      "source": [
        "nilai = int(input(\"Masukkan nilai ujian:\"))\n",
        "if nilai >= 60:\n",
        "  print(\"Anda LULUS\")"
      ]
    },
    {
      "cell_type": "markdown",
      "source": [
        "Praktikum 02 - If-Else"
      ],
      "metadata": {
        "id": "xXMkZ8t6KFcY"
      }
    },
    {
      "cell_type": "code",
      "source": [
        "nilai = int(input(\"Masukkan nilai ujian:\"))\n",
        "if nilai >= 60:\n",
        "          print(\"Anda LULUS\")\n",
        "else:\n",
        "                  print(\"Anda TIDAK LULUS\")"
      ],
      "metadata": {
        "colab": {
          "base_uri": "https://localhost:8080/"
        },
        "id": "kcvFvcQsJ2mG",
        "outputId": "ea4d750d-ee4a-4d27-8753-0c2611b97900"
      },
      "execution_count": null,
      "outputs": [
        {
          "output_type": "stream",
          "name": "stdout",
          "text": [
            "Masukkan nilai ujian:50\n",
            "Anda TIDAK LULUS\n"
          ]
        }
      ]
    },
    {
      "cell_type": "markdown",
      "source": [
        "Praktikum 03 - If-Elif-Else"
      ],
      "metadata": {
        "id": "whonPdkILV7G"
      }
    },
    {
      "cell_type": "code",
      "source": [
        "nilai = int(input(\"Masukkan nilai akhir:\"))\n",
        "\n",
        "if nilai >= 85:\n",
        "  grade = \"A\"\n",
        "elif nilai >= 70:\n",
        "  grade = \"B\"\n",
        "elif nilai >= 55:\n",
        "  grade = \"C\"\n",
        "elif nilai >= 40:\n",
        "  grade = \"D\"\n",
        "else:\n",
        "  grade = \"E\"\n",
        "\n",
        "print(f\"Nilai Anda {nilai}, maka grade Anda = {grade}\")"
      ],
      "metadata": {
        "colab": {
          "base_uri": "https://localhost:8080/"
        },
        "id": "s7AV2DAvLHHs",
        "outputId": "a52357a5-82bc-4662-a4d5-b87b61ab977c"
      },
      "execution_count": null,
      "outputs": [
        {
          "output_type": "stream",
          "name": "stdout",
          "text": [
            "Masukkan nilai akhir:78\n",
            "Nilai Anda 78, maka grade Anda = B\n"
          ]
        }
      ]
    },
    {
      "cell_type": "markdown",
      "source": [
        "Praktikum 04 - Nested If"
      ],
      "metadata": {
        "id": "0B-etISjOp8d"
      }
    },
    {
      "cell_type": "code",
      "source": [
        "ipk = float(input(\"Masukkan IPK:\"))\n",
        "sks = int(input(\"Masukkan jumlah SKS:\"))\n",
        "\n",
        "if ipk >= 3.0:\n",
        "  if sks >= 18:\n",
        "    print(\"Anda LAYAK mendapat beasiswa\")\n",
        "  else:\n",
        "    print(\"IPK memenuhi, tapi SKS kurang\")\n",
        "else:\n",
        "    print(\"Anda TIDAK layak mendapat beasiswa\")"
      ],
      "metadata": {
        "colab": {
          "base_uri": "https://localhost:8080/"
        },
        "id": "s52j_8DzOk0S",
        "outputId": "b0f1b1bd-762b-4c9b-f0bc-4cfc87094301"
      },
      "execution_count": null,
      "outputs": [
        {
          "output_type": "stream",
          "name": "stdout",
          "text": [
            "Masukkan IPK:3.2\n",
            "Masukkan jumlah SKS:20\n",
            "Anda LAYAK mendapat beasiswa\n"
          ]
        }
      ]
    },
    {
      "cell_type": "markdown",
      "source": [
        "Nested If (Beasiswa, Gagal SKS)"
      ],
      "metadata": {
        "id": "gpRuSzrMh5Cd"
      }
    },
    {
      "cell_type": "code",
      "source": [
        "ipk = float(input(\"Masukkan IPK:\"))\n",
        "sks = int(input(\"Masukkan jumlah SKS:\"))\n",
        "\n",
        "if ipk >= 3.0:\n",
        "  if sks >= 18:\n",
        "    print(\"Anda LAYAK mendapat beasiswa\")\n",
        "  else:\n",
        "    print(\"IPK memenuhi, tapi SKS kurang\")\n",
        "else:\n",
        "    print(\"Anda TIDAK layak mendapat beasiswa\")"
      ],
      "metadata": {
        "colab": {
          "base_uri": "https://localhost:8080/"
        },
        "id": "_drKetD-iGF7",
        "outputId": "454ce28d-4490-4575-8bfc-1a95a8e87289"
      },
      "execution_count": null,
      "outputs": [
        {
          "output_type": "stream",
          "name": "stdout",
          "text": [
            "Masukkan IPK:3.2\n",
            "Masukkan jumlah SKS:16\n",
            "IPK memenuhi, tapi SKS kurang\n"
          ]
        }
      ]
    },
    {
      "cell_type": "markdown",
      "source": [
        "Nested If (Beasiswa, gagal IPK)"
      ],
      "metadata": {
        "id": "my_n27CxinyM"
      }
    },
    {
      "cell_type": "code",
      "source": [
        "ipk = float(input(\"Masukkan IPK:\"))\n",
        "sks = int(input(\"Masukkan jumlah SKS:\"))\n",
        "\n",
        "if ipk >= 3.0:\n",
        "  if sks >= 18:\n",
        "    print(\"Anda LAYAK mendapat beasiswa\")\n",
        "  else:\n",
        "    print(\"IPK memenuhi, tapi SKS kurang\")\n",
        "else:\n",
        "    print(\"Anda TIDAK layak mendapat beasiswa\")"
      ],
      "metadata": {
        "colab": {
          "base_uri": "https://localhost:8080/"
        },
        "id": "6ZBC9_Etiyqh",
        "outputId": "11f1204a-15f5-4cc3-c518-01bfbea2a3ae"
      },
      "execution_count": null,
      "outputs": [
        {
          "output_type": "stream",
          "name": "stdout",
          "text": [
            "Masukkan IPK:2.8\n",
            "Masukkan jumlah SKS:20\n",
            "Anda TIDAK layak mendapat beasiswa\n"
          ]
        }
      ]
    },
    {
      "cell_type": "markdown",
      "source": [
        "Praktikum 05 - Match-Case"
      ],
      "metadata": {
        "id": "FoJgG5jPQizy"
      }
    },
    {
      "cell_type": "code",
      "source": [
        "menu = int(input(\"Pilih menu (1-3):\"))\n",
        "\n",
        "match menu:\n",
        "  case 1:\n",
        "    print(\"Anda memilih Nasi Goreng\")\n",
        "  case 2:\n",
        "    print(\"Anda memilih Mie Ayam\")\n",
        "  case 3:\n",
        "    print(\"Anda memilih Soto Ayam\")\n",
        "  case _:\n",
        "    print(\"Menu tidak tersedia\")\n"
      ],
      "metadata": {
        "id": "Nx4GNvXIPrnP",
        "colab": {
          "base_uri": "https://localhost:8080/"
        },
        "outputId": "c579c854-1a19-4d43-86c6-41ff078c6412"
      },
      "execution_count": null,
      "outputs": [
        {
          "output_type": "stream",
          "name": "stdout",
          "text": [
            "Pilih menu (1-3):2\n",
            "Anda memilih Mie Ayam\n"
          ]
        }
      ]
    },
    {
      "cell_type": "markdown",
      "source": [
        "Match-Case (salah input)"
      ],
      "metadata": {
        "id": "BR20-2wKjL8M"
      }
    },
    {
      "cell_type": "code",
      "source": [
        "menu = int(input(\"Pilih menu (1-3):\"))\n",
        "\n",
        "match menu:\n",
        "  case 1:\n",
        "    print(\"Anda memilih Nasi Goreng\")\n",
        "  case 2:\n",
        "    print(\"Anda memilih Mie Ayam\")\n",
        "  case 3:\n",
        "    print(\"Anda memilih Soto Ayam\")\n",
        "  case _:\n",
        "    print(\"Menu tidak tersedia\")\n"
      ],
      "metadata": {
        "colab": {
          "base_uri": "https://localhost:8080/"
        },
        "id": "xHDuQ0EFjLkD",
        "outputId": "88393bc0-6516-4048-d5e8-10258de46d59"
      },
      "execution_count": null,
      "outputs": [
        {
          "output_type": "stream",
          "name": "stdout",
          "text": [
            "Pilih menu (1-3):9\n",
            "Menu tidak tersedia\n"
          ]
        }
      ]
    },
    {
      "cell_type": "markdown",
      "source": [
        "Praktikum 06 - Studi Kasus: Program Kasir"
      ],
      "metadata": {
        "id": "UHDh4JmRVrug"
      }
    },
    {
      "cell_type": "code",
      "source": [
        "barang = input(\"Masukkan nama barang\")\n",
        "harga = float(input(\"Masukkan harga barang\"))\n",
        "jumlah = int(input(\"Masukkan jumlah barang\"))\n",
        "\n",
        "total = harga * jumlah\n",
        "\n",
        "if total >= 500000:\n",
        "  diskon = 0.2\n",
        "elif total >= 250000:\n",
        "  diskon = 0.1\n",
        "else:\n",
        "  diskon = 0\n",
        "\n",
        "bayar = total - (total * diskon)\n",
        "\n",
        "print(\"\\n===== Struk Belanja ======\")\n",
        "print(f\"Barang : {barang}\")\n",
        "print(f\"Jumlah : {jumlah}\")\n",
        "print(f\"Total : Rp {total}\")\n",
        "print(f\"Diskon : {diskon*100}%\")\n",
        "print(f\"Bayar : Rp {bayar}\")\n"
      ],
      "metadata": {
        "id": "fqYnyC5UVGH-",
        "outputId": "eab35a43-e492-4772-9164-1b075e942bc6",
        "colab": {
          "base_uri": "https://localhost:8080/"
        }
      },
      "execution_count": null,
      "outputs": [
        {
          "output_type": "stream",
          "name": "stdout",
          "text": [
            "Masukkan nama barangbuku\n",
            "Masukkan harga barang60000\n",
            "Masukkan jumlah barang5\n",
            "\n",
            "===== Struk Belanja ======\n",
            "Barang : buku\n",
            "Jumlah : 5\n",
            "Total : Rp 300000.0\n",
            "Diskon : 10.0%\n",
            "Bayar : Rp 270000.0\n"
          ]
        }
      ]
    },
    {
      "cell_type": "markdown",
      "source": [
        "Program Kasir (diskon 20%)"
      ],
      "metadata": {
        "id": "ZQ5vNp2tlGjN"
      }
    },
    {
      "cell_type": "code",
      "source": [
        "barang = input(\"Masukkan nama barang\")\n",
        "harga = float(input(\"Masukkan harga barang\"))\n",
        "jumlah = int(input(\"Masukkan jumlah barang\"))\n",
        "\n",
        "total = harga * jumlah\n",
        "\n",
        "if total >= 500000:\n",
        "  diskon = 0.2\n",
        "elif total >= 250000:\n",
        "  diskon = 0.1\n",
        "else:\n",
        "  diskon = 0\n",
        "\n",
        "bayar = total - (total * diskon)\n",
        "\n",
        "print(\"\\n===== Struk Belanja ======\")\n",
        "print(f\"Barang : {barang}\")\n",
        "print(f\"Jumlah : {jumlah}\")\n",
        "print(f\"Total : Rp {total}\")\n",
        "print(f\"Diskon : {diskon*100}%\")\n",
        "print(f\"Bayar : Rp {bayar}\")"
      ],
      "metadata": {
        "colab": {
          "base_uri": "https://localhost:8080/"
        },
        "id": "ynZK23rYlPQN",
        "outputId": "7f18f474-3c2c-41dc-f6fa-b1b35c884883"
      },
      "execution_count": null,
      "outputs": [
        {
          "output_type": "stream",
          "name": "stdout",
          "text": [
            "Masukkan nama barangtas\n",
            "Masukkan harga barang200000\n",
            "Masukkan jumlah barang3\n",
            "\n",
            "===== Struk Belanja ======\n",
            "Barang : tas\n",
            "Jumlah : 3\n",
            "Total : Rp 600000.0\n",
            "Diskon : 20.0%\n",
            "Bayar : Rp 480000.0\n"
          ]
        }
      ]
    },
    {
      "cell_type": "markdown",
      "source": [
        "Program Kasir (tanpa diskon)"
      ],
      "metadata": {
        "id": "ZmOyjQBqnjw-"
      }
    },
    {
      "cell_type": "code",
      "source": [
        "barang = input(\"Masukkan nama barang\")\n",
        "harga = float(input(\"Masukkan harga barang\"))\n",
        "jumlah = int(input(\"Masukkan jumlah barang\"))\n",
        "\n",
        "total = harga * jumlah\n",
        "\n",
        "if total >= 500000:\n",
        "  diskon = 0.2\n",
        "elif total >= 250000:\n",
        "  diskon = 0.1\n",
        "else:\n",
        "  diskon = 0\n",
        "\n",
        "bayar = total - (total * diskon)\n",
        "\n",
        "print(\"\\n===== Struk Belanja ======\")\n",
        "print(f\"Barang : {barang}\")\n",
        "print(f\"Jumlah : {jumlah}\")\n",
        "print(f\"Total : Rp {total}\")\n",
        "print(f\"Diskon : {diskon*100}%\")\n",
        "print(f\"Bayar : Rp {bayar}\")"
      ],
      "metadata": {
        "colab": {
          "base_uri": "https://localhost:8080/"
        },
        "id": "L52QfXmBnorq",
        "outputId": "f31d36ad-2b0f-4c44-927f-e46b071dfc51"
      },
      "execution_count": null,
      "outputs": [
        {
          "output_type": "stream",
          "name": "stdout",
          "text": [
            "Masukkan nama barangpulpen\n",
            "Masukkan harga barang5000\n",
            "Masukkan jumlah barang10\n",
            "\n",
            "===== Struk Belanja ======\n",
            "Barang : pulpen\n",
            "Jumlah : 10\n",
            "Total : Rp 50000.0\n",
            "Diskon : 0%\n",
            "Bayar : Rp 50000.0\n"
          ]
        }
      ]
    },
    {
      "cell_type": "markdown",
      "source": [
        "Cek Bilangan Positif/Negatif/Nol"
      ],
      "metadata": {
        "id": "tet2s2JPa2SD"
      }
    },
    {
      "cell_type": "code",
      "source": [
        "nilai = int(input(\"Masukkan nilai:\"))\n",
        "\n",
        "if nilai >= 0:\n",
        "  bilangan = \"Positif\"\n",
        "elif nilai <= 0:\n",
        "  bilangan = \"Negatif\"\n",
        "else:\n",
        "  bilangan = \"Nol\"\n",
        "\n",
        "print(f\"Nilai Anda {nilai}, maka bilangan = {bilangan}\")"
      ],
      "metadata": {
        "id": "fr3Y0tPEYZmM",
        "colab": {
          "base_uri": "https://localhost:8080/"
        },
        "outputId": "a66d8c6f-95e2-44fe-d9de-bca208384777"
      },
      "execution_count": null,
      "outputs": [
        {
          "output_type": "stream",
          "name": "stdout",
          "text": [
            "Masukkan nilai:-5\n",
            "Nilai Anda -5, maka bilangan = Negatif\n"
          ]
        }
      ]
    },
    {
      "cell_type": "markdown",
      "source": [
        "Menentukan Kategori Usia"
      ],
      "metadata": {
        "id": "M6AtYcemPdou"
      }
    },
    {
      "cell_type": "code",
      "source": [
        "umur = int(input(\"Masukkan umur:\"))\n",
        "\n",
        "if umur <= 5:\n",
        "  kategori = \"Balita\"\n",
        "elif umur <= 11:\n",
        "  kategori = \"Anak - anak\"\n",
        "elif umur <= 17:\n",
        "  kategori = \"Remaja\"\n",
        "elif umur <= 59:\n",
        "  kategori = \"Dewasa\"\n",
        "else:\n",
        "  kategori = \"Lansia\"\n",
        "\n",
        "print(\"Kategori usia:\", kategori)"
      ],
      "metadata": {
        "colab": {
          "base_uri": "https://localhost:8080/"
        },
        "id": "A4NqkruqMKlT",
        "outputId": "fb70732b-0cc5-4543-b79f-5dc2a19296e4"
      },
      "execution_count": null,
      "outputs": [
        {
          "output_type": "stream",
          "name": "stdout",
          "text": [
            "Masukkan umur:8\n",
            "Kategori usia: Anak - anak\n"
          ]
        }
      ]
    },
    {
      "cell_type": "markdown",
      "source": [
        "Hitung Tarif Parkir"
      ],
      "metadata": {
        "id": "MnZ7IznliAU-"
      }
    },
    {
      "cell_type": "code",
      "source": [
        "jam = int(input(\"Masukkan lama parkir (jam): \"))\n",
        "\n",
        "if jam <= 2:\n",
        "    tarif = 5000\n",
        "elif jam > 2 and jam * 2000 + 1000 <= 20000:\n",
        "    tarif = 5000 + (jam - 2) * 2000\n",
        "else:\n",
        "    tarif = 20000\n",
        "\n",
        "print(\"Tarif parkir: Rp\", tarif)\n"
      ],
      "metadata": {
        "id": "xXhNUah2WICL",
        "colab": {
          "base_uri": "https://localhost:8080/"
        },
        "outputId": "f17f006e-729a-4c70-8e96-7f31bc5b3171"
      },
      "execution_count": null,
      "outputs": [
        {
          "output_type": "stream",
          "name": "stdout",
          "text": [
            "Masukkan lama parkir (jam): 5\n",
            "Tarif parkir: Rp 11000\n"
          ]
        }
      ]
    },
    {
      "cell_type": "markdown",
      "source": [
        "Cek Login Sederhana"
      ],
      "metadata": {
        "id": "4M1YOjJMi5SF"
      }
    },
    {
      "cell_type": "code",
      "source": [
        "username = input(\"Masukkan username: \")\n",
        "password = input(\"Masukkan password: \")\n",
        "\n",
        "if username == \"admin\" and password == \"1234\":\n",
        "    print(\"Login berhasil\")\n",
        "else:\n",
        "    print(\"Login gagal\")"
      ],
      "metadata": {
        "colab": {
          "base_uri": "https://localhost:8080/"
        },
        "id": "CVxcRY3Ai0df",
        "outputId": "c84b4f89-d442-4c9f-8da3-1ae12930fb0e"
      },
      "execution_count": null,
      "outputs": [
        {
          "output_type": "stream",
          "name": "stdout",
          "text": [
            "Masukkan username: admin\n",
            "Masukkan password: 1234\n",
            "Login berhasil\n"
          ]
        }
      ]
    },
    {
      "cell_type": "markdown",
      "source": [
        "One-Liner If (Cek Genap/Ganjil)"
      ],
      "metadata": {
        "id": "Wnb5vLr-joml"
      }
    },
    {
      "cell_type": "code",
      "source": [
        "bilangan = int(input(\"Masukkan sebuah bilangan: \"))\n",
        "\n",
        "print(\"Genap\" if bilangan % 2 == 0 else \"Ganjil\")"
      ],
      "metadata": {
        "colab": {
          "base_uri": "https://localhost:8080/"
        },
        "id": "jLQvvRBujjEn",
        "outputId": "3a911aed-1ef8-46a2-82c1-e2c999e6b9f5"
      },
      "execution_count": null,
      "outputs": [
        {
          "output_type": "stream",
          "name": "stdout",
          "text": [
            "Masukkan sebuah bilangan: 5\n",
            "Ganjil\n"
          ]
        }
      ]
    },
    {
      "cell_type": "markdown",
      "source": [
        "Menu Restoran dengan Match-Case"
      ],
      "metadata": {
        "id": "sWd1FFFwkhn_"
      }
    },
    {
      "cell_type": "code",
      "source": [
        "print(\"=== Menu Makanan ===\")\n",
        "print(\"1 = Nasi Goreng\")\n",
        "print(\"2 = Mie Ayam\")\n",
        "print(\"3 = Soto Ayam\")\n",
        "\n",
        "pilihan = int(input(\"Masukkan pilihan menu (1-3): \"))\n",
        "\n",
        "match pilihan:\n",
        "    case 1:\n",
        "        print(\"Anda memilih Nasi Goreng\")\n",
        "    case 2:\n",
        "        print(\"Anda memilih Mie Ayam\")\n",
        "    case 3:\n",
        "        print(\"Anda memilih Soto Ayam\")\n",
        "    case _:\n",
        "        print(\"Menu tidak tersedia\")"
      ],
      "metadata": {
        "colab": {
          "base_uri": "https://localhost:8080/"
        },
        "id": "OgKCwNVnkI_u",
        "outputId": "28a265d8-0c08-4d88-ed43-c6b157e92a26"
      },
      "execution_count": null,
      "outputs": [
        {
          "output_type": "stream",
          "name": "stdout",
          "text": [
            "=== Menu Makanan ===\n",
            "1 = Nasi Goreng\n",
            "2 = Mie Ayam\n",
            "3 = Soto Ayam\n",
            "Masukkan pilihan menu (1-3): 3\n",
            "Anda memilih Soto Ayam\n"
          ]
        }
      ]
    },
    {
      "cell_type": "markdown",
      "source": [
        "Studi Kasus Nyata - Program Penentuan Diskon"
      ],
      "metadata": {
        "id": "AMJsN6vIlF_j"
      }
    },
    {
      "cell_type": "code",
      "source": [
        "nama_barang = input(\"Masukkan nama barang: \")\n",
        "jumlah = int(input(\"Masukkan jumlah barang: \"))\n",
        "harga = int(input(\"Masukkan harga per barang: \"))\n",
        "\n",
        "total = jumlah * harga\n",
        "\n",
        "if total >= 500000:\n",
        "    diskon = 0.20 * total\n",
        "elif total >= 250000:\n",
        "    diskon = 0.10 * total\n",
        "else:\n",
        "    diskon = 0\n",
        "\n",
        "jumlah_bayar = total - diskon\n",
        "\n",
        "print(\"\\n===== STRUK BELANJA =====\")\n",
        "print(\"Nama Barang   :\", nama_barang)\n",
        "print(\"Jumlah Barang :\", jumlah)\n",
        "print(\"Harga Satuan  : Rp\", harga)\n",
        "print(\"Total Harga   : Rp\", total)\n",
        "print(\"Diskon        : Rp\", int(diskon))\n",
        "print(\"Jumlah Bayar  : Rp\", int(jumlah_bayar))\n",
        "print(\"==========================\")"
      ],
      "metadata": {
        "colab": {
          "base_uri": "https://localhost:8080/"
        },
        "id": "FLNSVweukvgx",
        "outputId": "d8a2e627-bf20-4c4d-e0a3-e5e4ffbb1077"
      },
      "execution_count": null,
      "outputs": [
        {
          "output_type": "stream",
          "name": "stdout",
          "text": [
            "Masukkan nama barang: pensil\n",
            "Masukkan jumlah barang: 3\n",
            "Masukkan harga per barang: 3000\n",
            "\n",
            "===== STRUK BELANJA =====\n",
            "Nama Barang   : pensil\n",
            "Jumlah Barang : 3\n",
            "Harga Satuan  : Rp 3000\n",
            "Total Harga   : Rp 9000\n",
            "Diskon        : Rp 0\n",
            "Jumlah Bayar  : Rp 9000\n",
            "==========================\n"
          ]
        }
      ]
    },
    {
      "cell_type": "code",
      "source": [],
      "metadata": {
        "id": "e6bStPRAlgIq"
      },
      "execution_count": null,
      "outputs": []
    }
  ]
}